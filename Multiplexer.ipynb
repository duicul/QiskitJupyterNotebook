{
 "cells": [
  {
   "cell_type": "code",
   "execution_count": 1,
   "metadata": {},
   "outputs": [],
   "source": [
    "import numpy as np\n",
    "from qiskit import *\n",
    "from qiskit.tools.visualization import plot_histogram"
   ]
  },
  {
   "cell_type": "code",
   "execution_count": null,
   "metadata": {},
   "outputs": [],
   "source": [
    "q = QuantumRegister(6)\n",
    "c = ClassicalRegister(6)\n",
    "circuit = QuantumCircuit(q,c)\n",
    "\n",
    "\n",
    "\n",
    "circuit.h(q[0])\n",
    "circuit.h(q[1])\n",
    "circuit.h(q[2])\n",
    "\n",
    "circuit.ccx(0,1,4) # 4- AND\n",
    "\n",
    "circuit.cx(0,5) # 5- XOR\n",
    "circuit.cx(1,5)\n",
    "\n",
    "circuit.ccx(0,1,3)\n",
    "circuit.cx(0,1)\n",
    "circuit.ccx(1,2,3)\n",
    "circuit.cx(1,2)\n",
    "circuit.cx(0,1)\n",
    "circuit.measure(q,c)"
   ]
  }
 ],
 "metadata": {
  "kernelspec": {
   "display_name": "Python 3",
   "language": "python",
   "name": "python3"
  },
  "language_info": {
   "codemirror_mode": {
    "name": "ipython",
    "version": 3
   },
   "file_extension": ".py",
   "mimetype": "text/x-python",
   "name": "python",
   "nbconvert_exporter": "python",
   "pygments_lexer": "ipython3",
   "version": "3.7.3"
  }
 },
 "nbformat": 4,
 "nbformat_minor": 2
}
